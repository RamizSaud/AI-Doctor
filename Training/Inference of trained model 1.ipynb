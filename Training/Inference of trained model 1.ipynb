{
 "cells": [
  {
   "cell_type": "code",
   "execution_count": 1,
   "id": "fe765564",
   "metadata": {},
   "outputs": [
    {
     "name": "stdout",
     "output_type": "stream",
     "text": [
      "🦥 Unsloth: Will patch your computer to enable 2x faster free finetuning.\n"
     ]
    },
    {
     "name": "stderr",
     "output_type": "stream",
     "text": [
      "C:\\Anaconda\\envs\\llama3_2\\lib\\site-packages\\tqdm\\auto.py:21: TqdmWarning: IProgress not found. Please update jupyter and ipywidgets. See https://ipywidgets.readthedocs.io/en/stable/user_install.html\n",
      "  from .autonotebook import tqdm as notebook_tqdm\n"
     ]
    },
    {
     "name": "stdout",
     "output_type": "stream",
     "text": [
      "🦥 Unsloth Zoo will now patch everything to make training faster!\n"
     ]
    }
   ],
   "source": [
    "import torch\n",
    "from unsloth import FastLanguageModel"
   ]
  },
  {
   "cell_type": "code",
   "execution_count": 2,
   "id": "82cc10be",
   "metadata": {},
   "outputs": [
    {
     "name": "stdout",
     "output_type": "stream",
     "text": [
      "==((====))==  Unsloth 2025.1.5: Fast Llama patching. Transformers: 4.48.0.\n",
      "   \\\\   /|    GPU: NVIDIA GeForce RTX 3070 Laptop GPU. Max memory: 8.0 GB. Platform: Windows.\n",
      "O^O/ \\_/ \\    Torch: 2.5.1+cu124. CUDA: 8.6. CUDA Toolkit: 12.4. Triton: 3.1.0\n",
      "\\        /    Bfloat16 = TRUE. FA [Xformers = 0.0.29.post1. FA2 = True]\n",
      " \"-____-\"     Free Apache license: http://github.com/unslothai/unsloth\n",
      "Unsloth: Fast downloading is enabled - ignore downloading bars which are red colored!\n"
     ]
    },
    {
     "name": "stderr",
     "output_type": "stream",
     "text": [
      "C:\\Anaconda\\envs\\llama3_2\\lib\\site-packages\\unsloth\\models\\llama.py:1185: UserWarning: expandable_segments not supported on this platform (Triggered internally at C:\\actions-runner\\_work\\pytorch\\pytorch\\builder\\windows\\pytorch\\c10/cuda/CUDAAllocatorConfig.h:28.)\n",
      "  self.register_buffer(\"cos_cached\", emb.cos().to(dtype=dtype, device=device, non_blocking=True), persistent=False)\n",
      "Unsloth 2025.1.5 patched 32 layers with 32 QKV layers, 32 O layers and 32 MLP layers.\n"
     ]
    }
   ],
   "source": [
    "max_seq_length = 2048\n",
    "dtype = None\n",
    "load_in_4bit = True\n",
    "\n",
    "if True:\n",
    "    from unsloth import FastLanguageModel\n",
    "    model, tokenizer = FastLanguageModel.from_pretrained(\n",
    "        model_name = \"lora_model\", # YOUR MODEL YOU USED FOR TRAINING\n",
    "        max_seq_length = max_seq_length,\n",
    "        dtype = dtype,\n",
    "        load_in_4bit = load_in_4bit,\n",
    "    )\n",
    "    FastLanguageModel.for_inference(model)"
   ]
  },
  {
   "cell_type": "code",
   "execution_count": null,
   "id": "363dd8e8",
   "metadata": {},
   "outputs": [],
   "source": [
    "# alpaca_prompt = You MUST run cells from above!\n",
    "\n",
    "inputs = tokenizer(\n",
    "[\n",
    "    alpaca_prompt.format(\n",
    "        \"What is a famous tall tower in Paris?\", # instruction\n",
    "        \"\", # input\n",
    "        \"\", # output - leave this blank for generation!\n",
    "    )\n",
    "], return_tensors = \"pt\").to(\"cuda\")\n",
    "\n",
    "outputs = model.generate(**inputs, max_new_tokens = 64, use_cache = True)\n",
    "tokenizer.batch_decode(outputs)"
   ]
  },
  {
   "cell_type": "code",
   "execution_count": 3,
   "id": "8ca2135d",
   "metadata": {},
   "outputs": [],
   "source": [
    "alpaca_prompt = \"\"\"Below is an instruction that describes a task, paired with an input that provides further context. Write a response that appropriately completes the request.\n",
    "\n",
    "### Instruction:\n",
    "{}\n",
    "\n",
    "### Patient:\n",
    "{}\n",
    "\n",
    "### Doctor:\n",
    "{}\"\"\""
   ]
  },
  {
   "cell_type": "code",
   "execution_count": 4,
   "id": "fad3c741",
   "metadata": {},
   "outputs": [
    {
     "data": {
      "text/plain": [
       "[\"<|begin_of_text|>Below is an instruction that describes a task, paired with an input that provides further context. Write a response that appropriately completes the request.\\n\\n### Instruction:\\nIf you are a doctor, please answer the medical questions based on the patient's description.\\n\\n### Patient:\\nDoctor I am very sick, I have a very high fever. What should I do?\\n\\n### Doctor:\\nHello, I have gone through your query. Fever is a common symptom of many diseases. Fever may be due to viral infection, bacterial infection, fungal infection, etc. So, you should consult a physician and get a complete examination done. On the basis of the examination and clinical history, the cause of fever can be diagnosed and appropriate treatment can be given. You may get a blood test done to detect the cause of fever. Hope this helps. Let me know if I can assist you further. Wishing you good health.<|end_of_text|>\"]"
      ]
     },
     "execution_count": 4,
     "metadata": {},
     "output_type": "execute_result"
    }
   ],
   "source": [
    "FastLanguageModel.for_inference(model)\n",
    "inputs = tokenizer(\n",
    "[\n",
    "    alpaca_prompt.format(\n",
    "        \"If you are a doctor, please answer the medical questions based on the patient's description.\",\n",
    "        \"Doctor I am very sick, I have a very high fever. What should I do?\",\n",
    "        \"\",\n",
    "    )\n",
    "], return_tensors = \"pt\").to(\"cuda\")\n",
    "\n",
    "outputs = model.generate(**inputs, max_new_tokens = 128, use_cache = True)\n",
    "tokenizer.batch_decode(outputs)"
   ]
  },
  {
   "cell_type": "code",
   "execution_count": 5,
   "id": "9f0196d8",
   "metadata": {},
   "outputs": [],
   "source": [
    "text_list = tokenizer.batch_decode(outputs)"
   ]
  },
  {
   "cell_type": "code",
   "execution_count": 6,
   "id": "dbf9acb8",
   "metadata": {},
   "outputs": [
    {
     "name": "stdout",
     "output_type": "stream",
     "text": [
      "<|begin_of_text|>Below is an instruction that describes a task, paired with an input that provides further context. Write a response that appropriately completes the request.\n",
      "\n",
      "### Instruction:\n",
      "If you are a doctor, please answer the medical questions based on the patient's description.\n",
      "\n",
      "### Patient:\n",
      "Doctor I am very sick, I have a very high fever. What should I do?\n",
      "\n",
      "### Doctor:\n",
      "Hello, I have gone through your query. Fever is a common symptom of many diseases. Fever may be due to viral infection, bacterial infection, fungal infection, etc. So, you should consult a physician and get a complete examination done. On the basis of the examination and clinical history, the cause of fever can be diagnosed and appropriate treatment can be given. You may get a blood test done to detect the cause of fever. Hope this helps. Let me know if I can assist you further. Wishing you good health.<|end_of_text|>\n"
     ]
    }
   ],
   "source": [
    "print(text_list[0])"
   ]
  },
  {
   "cell_type": "code",
   "execution_count": 7,
   "id": "085eb956",
   "metadata": {},
   "outputs": [
    {
     "name": "stdout",
     "output_type": "stream",
     "text": [
      "<|begin_of_text|>Below is an instruction that describes a task, paired with an input that provides further context. Write a response that appropriately completes the request.\n",
      "\n",
      "### Instruction:\n",
      "If you are a doctor, please answer the medical questions based on the patient's description.\n",
      "\n",
      "### Patient:\n",
      "Doctor I am very sick, I have a very high fever. Can you recommend me any home remedies?\n",
      "\n",
      "### Doctor:\n",
      "Hello, I understand your concern. I would advise you to take paracetamol and antipyretic. If the fever is not reduced, then take anti-malarial tablets. I would also advise you to take plenty of fluids and avoid spicy and oily foods. Do not skip meals. I hope this would be helpful. Let me know if I can assist you further.<|end_of_text|>\n"
     ]
    }
   ],
   "source": [
    "FastLanguageModel.for_inference(model)\n",
    "inputs = tokenizer(\n",
    "[\n",
    "    alpaca_prompt.format(\n",
    "        \"If you are a doctor, please answer the medical questions based on the patient's description.\",\n",
    "        \"Doctor I am very sick, I have a very high fever. Can you recommend me any home remedies?\",\n",
    "        \"\",\n",
    "    )\n",
    "], return_tensors = \"pt\").to(\"cuda\")\n",
    "\n",
    "outputs = model.generate(**inputs, max_new_tokens = 128, use_cache = True)\n",
    "text_list = tokenizer.batch_decode(outputs)\n",
    "print(text_list[0])"
   ]
  },
  {
   "cell_type": "code",
   "execution_count": 8,
   "id": "ecd85dfe",
   "metadata": {},
   "outputs": [
    {
     "data": {
      "text/plain": [
       "390"
      ]
     },
     "execution_count": 8,
     "metadata": {},
     "output_type": "execute_result"
    }
   ],
   "source": [
    "text_list[0].find('### Doctor:')"
   ]
  },
  {
   "cell_type": "code",
   "execution_count": 15,
   "id": "4e2c1047",
   "metadata": {},
   "outputs": [
    {
     "data": {
      "text/plain": [
       "'Hello, I understand your concern. I would advise you to take paracetamol and antipyretic. If the fever is not reduced, then take anti-malarial tablets. I would also advise you to take plenty of fluids and avoid spicy and oily foods. Do not skip meals. I hope this would be helpful. Let me know if I can assist you further.'"
      ]
     },
     "execution_count": 15,
     "metadata": {},
     "output_type": "execute_result"
    }
   ],
   "source": [
    "output = text_list[0]\n",
    "output[output.find(\"### Doctor:\")+12:-15]"
   ]
  },
  {
   "cell_type": "markdown",
   "id": "203d7c64",
   "metadata": {},
   "source": [
    "# Sample Q/A"
   ]
  },
  {
   "cell_type": "code",
   "execution_count": 18,
   "id": "40f765b6",
   "metadata": {},
   "outputs": [
    {
     "name": "stdout",
     "output_type": "stream",
     "text": [
      "Hi, I am Chat Doctor. Thanks for your query. I have gone through your query. In my opinion, you are having a viral respiratory tract infection. It is common in this season. You can take an antibiotic and antipyretic tablet to control the symptoms. Avoid intake of cold drinks and spicy food. Take plenty of fluids and rest. Hope I have answered your query. Let me know if I can assist you further.\n"
     ]
    }
   ],
   "source": [
    "FastLanguageModel.for_inference(model)\n",
    "inputs = tokenizer(\n",
    "[\n",
    "    alpaca_prompt.format(\n",
    "        \"If you are a doctor, please answer the medical questions based on the patient's description.\",\n",
    "        \"I am experiencing persistent coughing, fever, and difficulty breathing. What could be the reason for this?\",\n",
    "        \"\",\n",
    "    )\n",
    "], return_tensors = \"pt\").to(\"cuda\")\n",
    "\n",
    "outputs = model.generate(**inputs, max_new_tokens = 128, use_cache = True)\n",
    "text_list = tokenizer.batch_decode(outputs)\n",
    "output = text_list[0]\n",
    "print(output[output.find(\"### Doctor:\")+12:-15])"
   ]
  },
  {
   "cell_type": "code",
   "execution_count": 19,
   "id": "48e284d5",
   "metadata": {},
   "outputs": [
    {
     "name": "stdout",
     "output_type": "stream",
     "text": [
      "Hi, welcome to Chat Doctor. I understand your concern. I would suggest you to get a CT scan of your brain. If the CT scan is normal, then you can go for a lumbar puncture to check for meningitis. If all the tests are normal, then you need to consult a neurologist and get a detailed neurological examination done. You may need a MRI of the brain and a EMG (electromyography) to rule out any neurological problem. Hope I have answered your query. Let me know if I can assist you further.\n"
     ]
    }
   ],
   "source": [
    "FastLanguageModel.for_inference(model)\n",
    "inputs = tokenizer(\n",
    "[\n",
    "    alpaca_prompt.format(\n",
    "        \"If you are a doctor, please answer the medical questions based on the patient's description.\",\n",
    "        \"I am experiencing a headache and sensitivity to light. What should I do?\",\n",
    "        \"\",\n",
    "    )\n",
    "], return_tensors = \"pt\").to(\"cuda\")\n",
    "\n",
    "outputs = model.generate(**inputs, max_new_tokens = 128, use_cache = True)\n",
    "text_list = tokenizer.batch_decode(outputs)\n",
    "output = text_list[0]\n",
    "print(output[output.find(\"### Doctor:\")+12:-15])"
   ]
  },
  {
   "cell_type": "code",
   "execution_count": 20,
   "id": "e143c391",
   "metadata": {},
   "outputs": [
    {
     "name": "stdout",
     "output_type": "stream",
     "text": [
      "Hi, Welcome to Chat Doctor, Thanks for your query. Yes, it can be an allergic reaction. It can be caused by food allergy or some other allergy. But it can also be due to some other reasons like viral infection or bacterial infection. So it is better to consult a dermatologist and do a blood test and skin test to find out the cause. Thanks.\n"
     ]
    }
   ],
   "source": [
    "FastLanguageModel.for_inference(model)\n",
    "inputs = tokenizer(\n",
    "[\n",
    "    alpaca_prompt.format(\n",
    "        \"If you are a doctor, please answer the medical questions based on the patient's description.\",\n",
    "        \"My child has a rash, fever, and joint pain. Could this be an allergic reaction or something else?\",\n",
    "        \"\",\n",
    "    )\n",
    "], return_tensors = \"pt\").to(\"cuda\")\n",
    "\n",
    "outputs = model.generate(**inputs, max_new_tokens = 128, use_cache = True)\n",
    "text_list = tokenizer.batch_decode(outputs)\n",
    "output = text_list[0]\n",
    "print(output[output.find(\"### Doctor:\")+12:-15])"
   ]
  },
  {
   "cell_type": "code",
   "execution_count": 21,
   "id": "cbcadb68",
   "metadata": {},
   "outputs": [
    {
     "name": "stdout",
     "output_type": "stream",
     "text": [
      "Hi dear, Welcome to Chat Doctor. Stomach pain and nausea could be due to many reasons. It could be due to indigestion, gastric ulcer, food poisoning, viral infection, or even due to a stress or anxiety. I would suggest you to do a blood test and a stool test. Also, if you are a female, you can do a pregnancy test. If all the tests are normal, then you can start with a proton pump inhibitor like omeprazole or pantoprazole. Take this medication twice daily for 7 days. If there is no relief, then you can consult a gas\n"
     ]
    }
   ],
   "source": [
    "FastLanguageModel.for_inference(model)\n",
    "inputs = tokenizer(\n",
    "[\n",
    "    alpaca_prompt.format(\n",
    "        \"If you are a doctor, please answer the medical questions based on the patient's description.\",\n",
    "        \"I have been experiencing stomach pain and nausea for a week. What could be the possible causes?\",\n",
    "        \"\",\n",
    "    )\n",
    "], return_tensors = \"pt\").to(\"cuda\")\n",
    "\n",
    "outputs = model.generate(**inputs, max_new_tokens = 128, use_cache = True)\n",
    "text_list = tokenizer.batch_decode(outputs)\n",
    "output = text_list[0]\n",
    "print(output[output.find(\"### Doctor:\")+12:-15])"
   ]
  },
  {
   "cell_type": "code",
   "execution_count": 22,
   "id": "a7f715f0",
   "metadata": {},
   "outputs": [
    {
     "name": "stdout",
     "output_type": "stream",
     "text": [
      "Hi. Thank you for your question. You have to rule out low blood pressure, hypoglycemia, dehydration, and hyperventilation. In the meantime, you have to avoid standing for a long time, and try to sleep with your head elevated. If you are a diabetic, you have to control your blood sugar. If you are dehydrated, you have to drink more fluids. If you are hyperventilating, you have to do breathing exercises. Hope I have helped. Let me know if I can assist you further. Good luck.\n"
     ]
    }
   ],
   "source": [
    "FastLanguageModel.for_inference(model)\n",
    "inputs = tokenizer(\n",
    "[\n",
    "    alpaca_prompt.format(\n",
    "        \"If you are a doctor, please answer the medical questions based on the patient's description.\",\n",
    "        \"I feel dizzy and slightly faint after standing up. What could be the cause of this?\",\n",
    "        \"\",\n",
    "    )\n",
    "], return_tensors = \"pt\").to(\"cuda\")\n",
    "\n",
    "outputs = model.generate(**inputs, max_new_tokens = 128, use_cache = True)\n",
    "text_list = tokenizer.batch_decode(outputs)\n",
    "output = text_list[0]\n",
    "print(output[output.find(\"### Doctor:\")+12:-15])"
   ]
  },
  {
   "cell_type": "code",
   "execution_count": 23,
   "id": "0777c45c",
   "metadata": {},
   "outputs": [
    {
     "name": "stdout",
     "output_type": "stream",
     "text": [
      "Hi, Thanks for posting your query in Chat Doctor. I understand your concern. I would suggest you to take paracetamol (500 mg) or aspirin (300 mg) for the headache. If it does not help, then you can take tramadol (50 mg) and if it also does not help, then you can take diclofenac (75 mg). I hope this helps. Take care. \n"
     ]
    }
   ],
   "source": [
    "FastLanguageModel.for_inference(model)\n",
    "inputs = tokenizer(\n",
    "[\n",
    "    alpaca_prompt.format(\n",
    "        \"If you are a doctor, please answer the medical questions based on the patient's description.\",\n",
    "        \"Which over-the-counter medicine can I take for mild headaches?\",\n",
    "        \"\",\n",
    "    )\n",
    "], return_tensors = \"pt\").to(\"cuda\")\n",
    "\n",
    "outputs = model.generate(**inputs, max_new_tokens = 128, use_cache = True)\n",
    "text_list = tokenizer.batch_decode(outputs)\n",
    "output = text_list[0]\n",
    "print(output[output.find(\"### Doctor:\")+12:-15])"
   ]
  },
  {
   "cell_type": "code",
   "execution_count": 24,
   "id": "a40ffa55",
   "metadata": {},
   "outputs": [
    {
     "name": "stdout",
     "output_type": "stream",
     "text": [
      "Hi, I am Chat Doctor. I have gone through your query. I can understand your concern. You should clean the wound with saline water. Apply antiseptic cream. Avoid rubbing the area. Apply antibiotic ointment. If you have any doubt please consult dermatologist. Hope this will help you. Thanks. \n"
     ]
    }
   ],
   "source": [
    "FastLanguageModel.for_inference(model)\n",
    "inputs = tokenizer(\n",
    "[\n",
    "    alpaca_prompt.format(\n",
    "        \"If you are a doctor, please answer the medical questions based on the patient's description.\",\n",
    "        \"How can I treat a minor burn at home?\",\n",
    "        \"\",\n",
    "    )\n",
    "], return_tensors = \"pt\").to(\"cuda\")\n",
    "\n",
    "outputs = model.generate(**inputs, max_new_tokens = 128, use_cache = True)\n",
    "text_list = tokenizer.batch_decode(outputs)\n",
    "output = text_list[0]\n",
    "print(output[output.find(\"### Doctor:\")+12:-15])"
   ]
  },
  {
   "cell_type": "code",
   "execution_count": 25,
   "id": "a94eac31",
   "metadata": {},
   "outputs": [
    {
     "name": "stdout",
     "output_type": "stream",
     "text": [
      "Hello, thanks for consulting to Chat Doctor. As per your query, taking ibuprofen daily for more than 3 months can cause side effects like gastric ulceration, stomach pain, nausea, vomiting, diarrhea, dizziness, headache, drowsiness, etc. So, I would advise you to stop taking ibuprofen daily. You can take it only if you need it. Hope I have answered your query. Let me know if I can assist you further.\n"
     ]
    }
   ],
   "source": [
    "FastLanguageModel.for_inference(model)\n",
    "inputs = tokenizer(\n",
    "[\n",
    "    alpaca_prompt.format(\n",
    "        \"If you are a doctor, please answer the medical questions based on the patient's description.\",\n",
    "        \"Can taking ibuprofen daily cause any side effects?\",\n",
    "        \"\",\n",
    "    )\n",
    "], return_tensors = \"pt\").to(\"cuda\")\n",
    "\n",
    "outputs = model.generate(**inputs, max_new_tokens = 128, use_cache = True)\n",
    "text_list = tokenizer.batch_decode(outputs)\n",
    "output = text_list[0]\n",
    "print(output[output.find(\"### Doctor:\")+12:-15])"
   ]
  },
  {
   "cell_type": "code",
   "execution_count": 26,
   "id": "1d635640",
   "metadata": {},
   "outputs": [
    {
     "name": "stdout",
     "output_type": "stream",
     "text": [
      "Hi dear, Welcome to Chat Doctor. I am a doctor from India. I understand your concern. You have seasonal allergies. So first thing you have to do is to avoid the allergens. You can use antihistamines like Claritin or Allegra. If you are using Claritin then you can use it twice a day. If you are using Allegra then you can use it once a day. Hope this will help you. Let me know if I can assist you further. Thanks for using Chat Doctor.\n"
     ]
    }
   ],
   "source": [
    "FastLanguageModel.for_inference(model)\n",
    "inputs = tokenizer(\n",
    "[\n",
    "    alpaca_prompt.format(\n",
    "        \"If you are a doctor, please answer the medical questions based on the patient's description.\",\n",
    "        \"What is the first line of treatment for seasonal allergies?\",\n",
    "        \"\",\n",
    "    )\n",
    "], return_tensors = \"pt\").to(\"cuda\")\n",
    "\n",
    "outputs = model.generate(**inputs, max_new_tokens = 128, use_cache = True)\n",
    "text_list = tokenizer.batch_decode(outputs)\n",
    "output = text_list[0]\n",
    "print(output[output.find(\"### Doctor:\")+12:-15])"
   ]
  },
  {
   "cell_type": "code",
   "execution_count": 27,
   "id": "ec1aa624",
   "metadata": {},
   "outputs": [
    {
     "name": "stdout",
     "output_type": "stream",
     "text": [
      "Hello, Thanks for consulting us. Yes, you can take an antibiotic along with painkillers. However, you should consult a doctor and get a prescription for the same. Hope this answers your query. Let me know if I can assist you further.\n"
     ]
    }
   ],
   "source": [
    "FastLanguageModel.for_inference(model)\n",
    "inputs = tokenizer(\n",
    "[\n",
    "    alpaca_prompt.format(\n",
    "        \"If you are a doctor, please answer the medical questions based on the patient's description.\",\n",
    "        \"Can I take a specific antibiotic along with painkillers?\",\n",
    "        \"\",\n",
    "    )\n",
    "], return_tensors = \"pt\").to(\"cuda\")\n",
    "\n",
    "outputs = model.generate(**inputs, max_new_tokens = 128, use_cache = True)\n",
    "text_list = tokenizer.batch_decode(outputs)\n",
    "output = text_list[0]\n",
    "print(output[output.find(\"### Doctor:\")+12:-15])"
   ]
  },
  {
   "cell_type": "code",
   "execution_count": null,
   "id": "d1e7b74e",
   "metadata": {},
   "outputs": [],
   "source": []
  }
 ],
 "metadata": {
  "kernelspec": {
   "display_name": "llama3_2",
   "language": "python",
   "name": "llama3_2"
  },
  "language_info": {
   "codemirror_mode": {
    "name": "ipython",
    "version": 3
   },
   "file_extension": ".py",
   "mimetype": "text/x-python",
   "name": "python",
   "nbconvert_exporter": "python",
   "pygments_lexer": "ipython3",
   "version": "3.10.16"
  }
 },
 "nbformat": 4,
 "nbformat_minor": 5
}
