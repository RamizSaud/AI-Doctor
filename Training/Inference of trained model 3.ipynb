{
 "cells": [
  {
   "cell_type": "code",
   "execution_count": 1,
   "id": "fe765564",
   "metadata": {},
   "outputs": [
    {
     "name": "stdout",
     "output_type": "stream",
     "text": [
      "🦥 Unsloth: Will patch your computer to enable 2x faster free finetuning.\n"
     ]
    },
    {
     "name": "stderr",
     "output_type": "stream",
     "text": [
      "C:\\Anaconda\\envs\\llama3_2\\lib\\site-packages\\tqdm\\auto.py:21: TqdmWarning: IProgress not found. Please update jupyter and ipywidgets. See https://ipywidgets.readthedocs.io/en/stable/user_install.html\n",
      "  from .autonotebook import tqdm as notebook_tqdm\n"
     ]
    },
    {
     "name": "stdout",
     "output_type": "stream",
     "text": [
      "🦥 Unsloth Zoo will now patch everything to make training faster!\n"
     ]
    }
   ],
   "source": [
    "import torch\n",
    "from unsloth import FastLanguageModel"
   ]
  },
  {
   "cell_type": "code",
   "execution_count": 2,
   "id": "82cc10be",
   "metadata": {},
   "outputs": [
    {
     "name": "stdout",
     "output_type": "stream",
     "text": [
      "==((====))==  Unsloth 2025.1.5: Fast Llama patching. Transformers: 4.48.0.\n",
      "   \\\\   /|    GPU: NVIDIA GeForce RTX 3070 Laptop GPU. Max memory: 8.0 GB. Platform: Windows.\n",
      "O^O/ \\_/ \\    Torch: 2.5.1+cu124. CUDA: 8.6. CUDA Toolkit: 12.4. Triton: 3.1.0\n",
      "\\        /    Bfloat16 = TRUE. FA [Xformers = 0.0.29.post1. FA2 = True]\n",
      " \"-____-\"     Free Apache license: http://github.com/unslothai/unsloth\n",
      "Unsloth: Fast downloading is enabled - ignore downloading bars which are red colored!\n"
     ]
    },
    {
     "name": "stderr",
     "output_type": "stream",
     "text": [
      "C:\\Anaconda\\envs\\llama3_2\\lib\\site-packages\\unsloth\\models\\llama.py:1185: UserWarning: expandable_segments not supported on this platform (Triggered internally at C:\\actions-runner\\_work\\pytorch\\pytorch\\builder\\windows\\pytorch\\c10/cuda/CUDAAllocatorConfig.h:28.)\n",
      "  self.register_buffer(\"cos_cached\", emb.cos().to(dtype=dtype, device=device, non_blocking=True), persistent=False)\n",
      "Unsloth 2025.1.5 patched 32 layers with 32 QKV layers, 32 O layers and 32 MLP layers.\n"
     ]
    }
   ],
   "source": [
    "max_seq_length = 2048\n",
    "dtype = None\n",
    "load_in_4bit = True\n",
    "\n",
    "if True:\n",
    "    from unsloth import FastLanguageModel\n",
    "    model, tokenizer = FastLanguageModel.from_pretrained(\n",
    "        model_name = \"lora_model_2\", # YOUR MODEL YOU USED FOR TRAINING\n",
    "        max_seq_length = max_seq_length,\n",
    "        dtype = dtype,\n",
    "        load_in_4bit = load_in_4bit,\n",
    "    )\n",
    "    FastLanguageModel.for_inference(model)"
   ]
  },
  {
   "cell_type": "code",
   "execution_count": 3,
   "id": "8ca2135d",
   "metadata": {},
   "outputs": [],
   "source": [
    "alpaca_prompt = \"\"\"Below is an instruction that describes a task, paired with an input that provides further context. Write a response that appropriately completes the request.\n",
    "\n",
    "### Instruction:\n",
    "{}\n",
    "\n",
    "### Patient:\n",
    "{}\n",
    "\n",
    "### Doctor:\n",
    "{}\"\"\""
   ]
  },
  {
   "cell_type": "code",
   "execution_count": 4,
   "id": "fad3c741",
   "metadata": {},
   "outputs": [
    {
     "data": {
      "text/plain": [
       "[\"<|begin_of_text|>Below is an instruction that describes a task, paired with an input that provides further context. Write a response that appropriately completes the request.\\n\\n### Instruction:\\nIf you are a doctor, please answer the medical questions based on the patient's description.\\n\\n### Patient:\\nDoctor I am very sick, I have a very high fever. What should I do?\\n\\n### Doctor:\\nHello, Welcome to Chat Doctor, I have gone through your query and understand your concerns. You have high fever, so it is important to diagnose the cause of fever. I would suggest you to consult a doctor and get a physical examination done. If you are having fever more than 101 F, then you should get your blood tests done like CBC, ESR, PCR, CRP, Chest X-ray and Urine test. You may also need to get your sputum examination done. You may need to get your blood cultures done if you have fever of unknown origin. Hope this helps.<|end_of_text|>\"]"
      ]
     },
     "execution_count": 4,
     "metadata": {},
     "output_type": "execute_result"
    }
   ],
   "source": [
    "FastLanguageModel.for_inference(model)\n",
    "inputs = tokenizer(\n",
    "[\n",
    "    alpaca_prompt.format(\n",
    "        \"If you are a doctor, please answer the medical questions based on the patient's description.\",\n",
    "        \"Doctor I am very sick, I have a very high fever. What should I do?\",\n",
    "        \"\",\n",
    "    )\n",
    "], return_tensors = \"pt\").to(\"cuda\")\n",
    "\n",
    "outputs = model.generate(**inputs, max_new_tokens = 200, use_cache = True)\n",
    "tokenizer.batch_decode(outputs)"
   ]
  },
  {
   "cell_type": "code",
   "execution_count": 5,
   "id": "9f0196d8",
   "metadata": {},
   "outputs": [],
   "source": [
    "text_list = tokenizer.batch_decode(outputs)"
   ]
  },
  {
   "cell_type": "code",
   "execution_count": 6,
   "id": "dbf9acb8",
   "metadata": {},
   "outputs": [
    {
     "name": "stdout",
     "output_type": "stream",
     "text": [
      "<|begin_of_text|>Below is an instruction that describes a task, paired with an input that provides further context. Write a response that appropriately completes the request.\n",
      "\n",
      "### Instruction:\n",
      "If you are a doctor, please answer the medical questions based on the patient's description.\n",
      "\n",
      "### Patient:\n",
      "Doctor I am very sick, I have a very high fever. What should I do?\n",
      "\n",
      "### Doctor:\n",
      "Hello, Welcome to Chat Doctor, I have gone through your query and understand your concerns. You have high fever, so it is important to diagnose the cause of fever. I would suggest you to consult a doctor and get a physical examination done. If you are having fever more than 101 F, then you should get your blood tests done like CBC, ESR, PCR, CRP, Chest X-ray and Urine test. You may also need to get your sputum examination done. You may need to get your blood cultures done if you have fever of unknown origin. Hope this helps.<|end_of_text|>\n"
     ]
    }
   ],
   "source": [
    "print(text_list[0])"
   ]
  },
  {
   "cell_type": "code",
   "execution_count": 7,
   "id": "085eb956",
   "metadata": {},
   "outputs": [
    {
     "name": "stdout",
     "output_type": "stream",
     "text": [
      "<|begin_of_text|>Below is an instruction that describes a task, paired with an input that provides further context. Write a response that appropriately completes the request.\n",
      "\n",
      "### Instruction:\n",
      "If you are a doctor, please answer the medical questions based on the patient's description.\n",
      "\n",
      "### Patient:\n",
      "Doctor I am very sick, I have a very high fever. Can you recommend me any home remedies?\n",
      "\n",
      "### Doctor:\n",
      "Hello, Welcome to Chat Doctor. I understand your concern. I will suggest you some home remedies for fever.1. Take plenty of fluids like lemonade, buttermilk, coconut water, and fruit juices.2. Apply wet compresses on the forehead.3. Take steam inhalation.4. Take painkiller and antipyretic Chat Doctor. 5. Rest.6. Avoid cold food and drinks.7. Wash your hands frequently.8. Keep your surroundings clean.9. Avoid contact with sick people.10. Consult your doctor. I hope this information helps you.<|end_of_text|>\n"
     ]
    }
   ],
   "source": [
    "FastLanguageModel.for_inference(model)\n",
    "inputs = tokenizer(\n",
    "[\n",
    "    alpaca_prompt.format(\n",
    "        \"If you are a doctor, please answer the medical questions based on the patient's description.\",\n",
    "        \"Doctor I am very sick, I have a very high fever. Can you recommend me any home remedies?\",\n",
    "        \"\",\n",
    "    )\n",
    "], return_tensors = \"pt\").to(\"cuda\")\n",
    "\n",
    "outputs = model.generate(**inputs, max_new_tokens = 200, use_cache = True)\n",
    "text_list = tokenizer.batch_decode(outputs)\n",
    "print(text_list[0])"
   ]
  },
  {
   "cell_type": "code",
   "execution_count": 8,
   "id": "ecd85dfe",
   "metadata": {},
   "outputs": [
    {
     "data": {
      "text/plain": [
       "390"
      ]
     },
     "execution_count": 8,
     "metadata": {},
     "output_type": "execute_result"
    }
   ],
   "source": [
    "text_list[0].find('### Doctor:')"
   ]
  },
  {
   "cell_type": "code",
   "execution_count": 9,
   "id": "4e2c1047",
   "metadata": {},
   "outputs": [
    {
     "data": {
      "text/plain": [
       "'Hello, Welcome to Chat Doctor. I understand your concern. I will suggest you some home remedies for fever.1. Take plenty of fluids like lemonade, buttermilk, coconut water, and fruit juices.2. Apply wet compresses on the forehead.3. Take steam inhalation.4. Take painkiller and antipyretic Chat Doctor. 5. Rest.6. Avoid cold food and drinks.7. Wash your hands frequently.8. Keep your surroundings clean.9. Avoid contact with sick people.10. Consult your doctor. I hope this information helps you.'"
      ]
     },
     "execution_count": 9,
     "metadata": {},
     "output_type": "execute_result"
    }
   ],
   "source": [
    "output = text_list[0]\n",
    "output[output.find(\"### Doctor:\")+12:-15]"
   ]
  },
  {
   "cell_type": "markdown",
   "id": "203d7c64",
   "metadata": {},
   "source": [
    "# Sample Q/A"
   ]
  },
  {
   "cell_type": "code",
   "execution_count": 10,
   "id": "40f765b6",
   "metadata": {},
   "outputs": [
    {
     "name": "stdout",
     "output_type": "stream",
     "text": [
      "Hello, I understand your concern and would explain that the most common cause of cough, fever and difficulty breathing is pneumonia. Pneumonia is an infection of the lungs. Infection can be bacterial or viral. Viral pneumonia is usually self-limiting, and will resolve in 5-7 days. If you have bacterial pneumonia, you will need antibiotics. If you have fever and difficulty breathing, you should go to the emergency room and get evaluated. In the emergency room, they will perform a chest x-ray. They will also perform blood tests. They will check your oxygen levels. They will listen to your lungs. If you have pneumonia, you will need antibiotics. Hope I have answered your query. Let me know if I can answer any other question for you. \n"
     ]
    }
   ],
   "source": [
    "FastLanguageModel.for_inference(model)\n",
    "inputs = tokenizer(\n",
    "[\n",
    "    alpaca_prompt.format(\n",
    "        \"If you are a doctor, please answer the medical questions based on the patient's description.\",\n",
    "        \"I am experiencing persistent coughing, fever, and difficulty breathing. What could be the reason for this?\",\n",
    "        \"\",\n",
    "    )\n",
    "], return_tensors = \"pt\").to(\"cuda\")\n",
    "\n",
    "outputs = model.generate(**inputs, max_new_tokens = 200, use_cache = True)\n",
    "text_list = tokenizer.batch_decode(outputs)\n",
    "output = text_list[0]\n",
    "print(output[output.find(\"### Doctor:\")+12:-15])"
   ]
  },
  {
   "cell_type": "code",
   "execution_count": 11,
   "id": "48e284d5",
   "metadata": {},
   "outputs": [
    {
     "name": "stdout",
     "output_type": "stream",
     "text": [
      "Hello, Thanks for your query. I have gone through your query and would like to suggest you the following: The headache and sensitivity to light can be due to migraine. I would like to suggest you the following: Take analgesic like paracetamol for headache. Take antiemetic like metaclopramide for nausea. Take anti-inflammatory like ibuprofen for headache. Avoid bright light. Avoid stress. Get adequate sleep. Hope this helps.\n"
     ]
    }
   ],
   "source": [
    "FastLanguageModel.for_inference(model)\n",
    "inputs = tokenizer(\n",
    "[\n",
    "    alpaca_prompt.format(\n",
    "        \"If you are a doctor, please answer the medical questions based on the patient's description.\",\n",
    "        \"I am experiencing a headache and sensitivity to light. What should I do?\",\n",
    "        \"\",\n",
    "    )\n",
    "], return_tensors = \"pt\").to(\"cuda\")\n",
    "\n",
    "outputs = model.generate(**inputs, max_new_tokens = 200, use_cache = True)\n",
    "text_list = tokenizer.batch_decode(outputs)\n",
    "output = text_list[0]\n",
    "print(output[output.find(\"### Doctor:\")+12:-15])"
   ]
  },
  {
   "cell_type": "code",
   "execution_count": 12,
   "id": "e143c391",
   "metadata": {},
   "outputs": [
    {
     "name": "stdout",
     "output_type": "stream",
     "text": [
      "Hi. Thanks for asking. The rash could be due to viral infection. The fever and joint pain could be due to viral infection or due to rheumatic fever. The joint pain could also be due to arthritis. The cause of joint pain is important to find out as treatment is different for each of the above mentioned conditions. I suggest you consult a physician for a physical examination and blood tests. The blood tests will help to find out the cause of the symptoms.\n"
     ]
    }
   ],
   "source": [
    "FastLanguageModel.for_inference(model)\n",
    "inputs = tokenizer(\n",
    "[\n",
    "    alpaca_prompt.format(\n",
    "        \"If you are a doctor, please answer the medical questions based on the patient's description.\",\n",
    "        \"My child has a rash, fever, and joint pain. Could this be an allergic reaction or something else?\",\n",
    "        \"\",\n",
    "    )\n",
    "], return_tensors = \"pt\").to(\"cuda\")\n",
    "\n",
    "outputs = model.generate(**inputs, max_new_tokens = 200, use_cache = True)\n",
    "text_list = tokenizer.batch_decode(outputs)\n",
    "output = text_list[0]\n",
    "print(output[output.find(\"### Doctor:\")+12:-15])"
   ]
  },
  {
   "cell_type": "code",
   "execution_count": 20,
   "id": "cbcadb68",
   "metadata": {},
   "outputs": [
    {
     "name": "stdout",
     "output_type": "stream",
     "text": [
      "Hello, Welcome to Chat Doctor, Thank you for posting your query. The symptoms that you have mentioned could be due to several causes like peptic ulcer, gastritis, gall bladder stones, pancreatitis, hepatitis, etc. I would suggest you to consult a doctor and get a complete clinical examination done. Investigations like routine blood tests, liver function tests, ultrasound scan of abdomen, endoscopy, etc. will be required. You will be able to get a definite diagnosis after these investigations. Meanwhile, you can take proton pump inhibitors like pantoprazole 40 mg once daily for 5 days. I hope my answer will help you, take care.\n"
     ]
    }
   ],
   "source": [
    "FastLanguageModel.for_inference(model)\n",
    "inputs = tokenizer(\n",
    "[\n",
    "    alpaca_prompt.format(\n",
    "        \"If you are a doctor, please answer the medical questions based on the patient's description.\",\n",
    "        \"I have been experiencing stomach pain and nausea for a week. What could be the possible causes?\",\n",
    "        \"\",\n",
    "    )\n",
    "], return_tensors = \"pt\").to(\"cuda\")\n",
    "\n",
    "outputs = model.generate(**inputs, max_new_tokens = 200, use_cache = True)\n",
    "text_list = tokenizer.batch_decode(outputs)\n",
    "output = text_list[0]\n",
    "print(output[output.find(\"### Doctor:\")+12:-15])"
   ]
  },
  {
   "cell_type": "code",
   "execution_count": 14,
   "id": "a7f715f0",
   "metadata": {},
   "outputs": [
    {
     "name": "stdout",
     "output_type": "stream",
     "text": [
      "Hello, I have gone through your query and understand your concern. I will suggest you to check your blood pressure. Low blood pressure can cause this problem. It can be due to anemia or low blood sugar. You should check your blood pressure and blood sugar level. If you have low blood pressure you should lie down for some time. You can also take a tablet of flurbiprofen. Hope this will help.\n"
     ]
    }
   ],
   "source": [
    "FastLanguageModel.for_inference(model)\n",
    "inputs = tokenizer(\n",
    "[\n",
    "    alpaca_prompt.format(\n",
    "        \"If you are a doctor, please answer the medical questions based on the patient's description.\",\n",
    "        \"I feel dizzy and slightly faint after standing up. What could be the cause of this?\",\n",
    "        \"\",\n",
    "    )\n",
    "], return_tensors = \"pt\").to(\"cuda\")\n",
    "\n",
    "outputs = model.generate(**inputs, max_new_tokens = 200, use_cache = True)\n",
    "text_list = tokenizer.batch_decode(outputs)\n",
    "output = text_list[0]\n",
    "print(output[output.find(\"### Doctor:\")+12:-15])"
   ]
  },
  {
   "cell_type": "code",
   "execution_count": 15,
   "id": "0777c45c",
   "metadata": {},
   "outputs": [
    {
     "name": "stdout",
     "output_type": "stream",
     "text": [
      "Hello, Welcome to Chat Doctor, I am Chat Doctor, I would like to inform you that mild headaches can be managed by following medicines like paracetamol, ibuprofen or acetaminophen. These medicines are available over the counter. I would suggest you to take these medicines as per the instructions given in the label. Hope this helps.\n"
     ]
    }
   ],
   "source": [
    "FastLanguageModel.for_inference(model)\n",
    "inputs = tokenizer(\n",
    "[\n",
    "    alpaca_prompt.format(\n",
    "        \"If you are a doctor, please answer the medical questions based on the patient's description.\",\n",
    "        \"Which over-the-counter medicine can I take for mild headaches?\",\n",
    "        \"\",\n",
    "    )\n",
    "], return_tensors = \"pt\").to(\"cuda\")\n",
    "\n",
    "outputs = model.generate(**inputs, max_new_tokens = 200, use_cache = True)\n",
    "text_list = tokenizer.batch_decode(outputs)\n",
    "output = text_list[0]\n",
    "print(output[output.find(\"### Doctor:\")+12:-15])"
   ]
  },
  {
   "cell_type": "code",
   "execution_count": 16,
   "id": "a40ffa55",
   "metadata": {},
   "outputs": [
    {
     "name": "stdout",
     "output_type": "stream",
     "text": [
      "Hi, Thank you for posting your query. If you have a minor burn, you can use cold compresses to help reduce the pain and swelling. You can also use an over-the-counter pain reliever like acetaminophen or ibuprofen to help with the pain. If the burn is severe, you may need to see a doctor for further evaluation and treatment.\n"
     ]
    }
   ],
   "source": [
    "FastLanguageModel.for_inference(model)\n",
    "inputs = tokenizer(\n",
    "[\n",
    "    alpaca_prompt.format(\n",
    "        \"If you are a doctor, please answer the medical questions based on the patient's description.\",\n",
    "        \"How can I treat a minor burn at home?\",\n",
    "        \"\",\n",
    "    )\n",
    "], return_tensors = \"pt\").to(\"cuda\")\n",
    "\n",
    "outputs = model.generate(**inputs, max_new_tokens = 200, use_cache = True)\n",
    "text_list = tokenizer.batch_decode(outputs)\n",
    "output = text_list[0]\n",
    "print(output[output.find(\"### Doctor:\")+12:-15])"
   ]
  },
  {
   "cell_type": "code",
   "execution_count": 17,
   "id": "a94eac31",
   "metadata": {},
   "outputs": [
    {
     "name": "stdout",
     "output_type": "stream",
     "text": [
      "Hello! Welcome to Chat Doctor. I understand your concern. I have read your query. As you are taking ibuprofen daily, it may cause side effects. It may cause nausea, vomiting, abdominal pain, diarrhea, constipation, headache, dizziness, fatigue, drowsiness, blurred vision, itching, rash, and allergic reactions. In addition, it may cause renal failure, liver failure, bleeding, anemia, and thrombocytopenia. In case of severe side effects, you should consult your doctor immediately. Hope this information will help you. Best regards.\n"
     ]
    }
   ],
   "source": [
    "FastLanguageModel.for_inference(model)\n",
    "inputs = tokenizer(\n",
    "[\n",
    "    alpaca_prompt.format(\n",
    "        \"If you are a doctor, please answer the medical questions based on the patient's description.\",\n",
    "        \"Can taking ibuprofen daily cause any side effects?\",\n",
    "        \"\",\n",
    "    )\n",
    "], return_tensors = \"pt\").to(\"cuda\")\n",
    "\n",
    "outputs = model.generate(**inputs, max_new_tokens = 200, use_cache = True)\n",
    "text_list = tokenizer.batch_decode(outputs)\n",
    "output = text_list[0]\n",
    "print(output[output.find(\"### Doctor:\")+12:-15])"
   ]
  },
  {
   "cell_type": "code",
   "execution_count": 18,
   "id": "1d635640",
   "metadata": {},
   "outputs": [
    {
     "name": "stdout",
     "output_type": "stream",
     "text": [
      "Hello! Welcome to Chat Doctor. Allergic rhinitis is a common condition. It is also known as hay fever. It is caused by allergens such as pollen, mold spores, dust mites, animal dander and insect venom. Allergic rhinitis is characterized by symptoms such as sneezing, runny nose, itching of nose and eyes, and nasal congestion. In severe cases, the symptoms may be accompanied by headaches, sore throat, cough, wheezing, and ear pain. The symptoms usually occur during the season when the allergen is most common. The symptoms may be relieved by antihistamines, decongestants, or nasal corticosteroids. In severe cases, immunotherapy may be required. It is important to note that allergic rhinitis is not contagious. Hope this helps. Thanks for choosing Chat Doctor.\n"
     ]
    }
   ],
   "source": [
    "FastLanguageModel.for_inference(model)\n",
    "inputs = tokenizer(\n",
    "[\n",
    "    alpaca_prompt.format(\n",
    "        \"If you are a doctor, please answer the medical questions based on the patient's description.\",\n",
    "        \"What is the first line of treatment for seasonal allergies?\",\n",
    "        \"\",\n",
    "    )\n",
    "], return_tensors = \"pt\").to(\"cuda\")\n",
    "\n",
    "outputs = model.generate(**inputs, max_new_tokens = 200, use_cache = True)\n",
    "text_list = tokenizer.batch_decode(outputs)\n",
    "output = text_list[0]\n",
    "print(output[output.find(\"### Doctor:\")+12:-15])"
   ]
  },
  {
   "cell_type": "code",
   "execution_count": 19,
   "id": "ec1aa624",
   "metadata": {},
   "outputs": [
    {
     "name": "stdout",
     "output_type": "stream",
     "text": [
      "Hello, I read carefully your question and understand your concern. I would explain that it is not recommended to take antibiotics along with painkillers. The reason is that painkillers can affect the absorption of antibiotics. The best way is to take the antibiotics at least 1 hour before taking the painkillers. If you have any further questions please do not hesitate to contact me. Best wishes, \n"
     ]
    }
   ],
   "source": [
    "FastLanguageModel.for_inference(model)\n",
    "inputs = tokenizer(\n",
    "[\n",
    "    alpaca_prompt.format(\n",
    "        \"If you are a doctor, please answer the medical questions based on the patient's description.\",\n",
    "        \"Can I take a specific antibiotic along with painkillers?\",\n",
    "        \"\",\n",
    "    )\n",
    "], return_tensors = \"pt\").to(\"cuda\")\n",
    "\n",
    "outputs = model.generate(**inputs, max_new_tokens = 200, use_cache = True)\n",
    "text_list = tokenizer.batch_decode(outputs)\n",
    "output = text_list[0]\n",
    "print(output[output.find(\"### Doctor:\")+12:-15])"
   ]
  },
  {
   "cell_type": "code",
   "execution_count": null,
   "id": "d1e7b74e",
   "metadata": {},
   "outputs": [],
   "source": []
  }
 ],
 "metadata": {
  "kernelspec": {
   "display_name": "llama3_2",
   "language": "python",
   "name": "llama3_2"
  },
  "language_info": {
   "codemirror_mode": {
    "name": "ipython",
    "version": 3
   },
   "file_extension": ".py",
   "mimetype": "text/x-python",
   "name": "python",
   "nbconvert_exporter": "python",
   "pygments_lexer": "ipython3",
   "version": "3.10.16"
  }
 },
 "nbformat": 4,
 "nbformat_minor": 5
}
