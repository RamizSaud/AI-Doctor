{
 "cells": [
  {
   "cell_type": "code",
   "execution_count": 1,
   "id": "fe765564",
   "metadata": {},
   "outputs": [
    {
     "name": "stdout",
     "output_type": "stream",
     "text": [
      "🦥 Unsloth: Will patch your computer to enable 2x faster free finetuning.\n"
     ]
    },
    {
     "name": "stderr",
     "output_type": "stream",
     "text": [
      "C:\\Anaconda\\envs\\llama3_2\\lib\\site-packages\\tqdm\\auto.py:21: TqdmWarning: IProgress not found. Please update jupyter and ipywidgets. See https://ipywidgets.readthedocs.io/en/stable/user_install.html\n",
      "  from .autonotebook import tqdm as notebook_tqdm\n"
     ]
    },
    {
     "name": "stdout",
     "output_type": "stream",
     "text": [
      "🦥 Unsloth Zoo will now patch everything to make training faster!\n"
     ]
    }
   ],
   "source": [
    "import torch\n",
    "from unsloth import FastLanguageModel"
   ]
  },
  {
   "cell_type": "code",
   "execution_count": 2,
   "id": "82cc10be",
   "metadata": {},
   "outputs": [
    {
     "name": "stdout",
     "output_type": "stream",
     "text": [
      "==((====))==  Unsloth 2025.1.5: Fast Llama patching. Transformers: 4.48.0.\n",
      "   \\\\   /|    GPU: NVIDIA GeForce RTX 3070 Laptop GPU. Max memory: 8.0 GB. Platform: Windows.\n",
      "O^O/ \\_/ \\    Torch: 2.5.1+cu124. CUDA: 8.6. CUDA Toolkit: 12.4. Triton: 3.1.0\n",
      "\\        /    Bfloat16 = TRUE. FA [Xformers = 0.0.29.post1. FA2 = True]\n",
      " \"-____-\"     Free Apache license: http://github.com/unslothai/unsloth\n",
      "Unsloth: Fast downloading is enabled - ignore downloading bars which are red colored!\n"
     ]
    },
    {
     "name": "stderr",
     "output_type": "stream",
     "text": [
      "C:\\Anaconda\\envs\\llama3_2\\lib\\site-packages\\unsloth\\models\\llama.py:1185: UserWarning: expandable_segments not supported on this platform (Triggered internally at C:\\actions-runner\\_work\\pytorch\\pytorch\\builder\\windows\\pytorch\\c10/cuda/CUDAAllocatorConfig.h:28.)\n",
      "  self.register_buffer(\"cos_cached\", emb.cos().to(dtype=dtype, device=device, non_blocking=True), persistent=False)\n",
      "Unsloth 2025.1.5 patched 32 layers with 32 QKV layers, 32 O layers and 32 MLP layers.\n"
     ]
    }
   ],
   "source": [
    "max_seq_length = 4096\n",
    "dtype = None\n",
    "load_in_4bit = True\n",
    "\n",
    "if True:\n",
    "    from unsloth import FastLanguageModel\n",
    "    model, tokenizer = FastLanguageModel.from_pretrained(\n",
    "        model_name = \"lora_model_2\",\n",
    "        max_seq_length = max_seq_length,\n",
    "        dtype = dtype,\n",
    "        load_in_4bit = load_in_4bit,\n",
    "    )\n",
    "    FastLanguageModel.for_inference(model)"
   ]
  },
  {
   "cell_type": "code",
   "execution_count": 3,
   "id": "8ca2135d",
   "metadata": {},
   "outputs": [],
   "source": [
    "alpaca_prompt = \"\"\"Below is an instruction that describes a task, paired with an input that provides further context. Write a response that appropriately completes the request.\n",
    "\n",
    "### Instruction:\n",
    "{}\n",
    "\n",
    "### Patient:\n",
    "{}\n",
    "\n",
    "### Doctor:\n",
    "{}\"\"\""
   ]
  },
  {
   "cell_type": "code",
   "execution_count": 20,
   "id": "fad3c741",
   "metadata": {},
   "outputs": [
    {
     "data": {
      "text/plain": [
       "[\"<|begin_of_text|>Below is an instruction that describes a task, paired with an input that provides further context. Write a response that appropriately completes the request.\\n\\n### Instruction:\\nIf you are a doctor, please answer the medical questions based on the patient's description.\\n\\n### Patient:\\nDoctor I am very sick, I have a very high fever. What should I do?\\n\\n### Doctor:\\nHello, Thank you for posting your query. I can understand your concern. You have fever with chills and rigor. Your symptoms are suggestive of bacterial infection. I would advise you to consult your doctor and get yourself evaluated. Get a blood test done to check for infection. You might need antibiotics and supportive treatment. Take care.<|end_of_text|>\"]"
      ]
     },
     "execution_count": 20,
     "metadata": {},
     "output_type": "execute_result"
    }
   ],
   "source": [
    "FastLanguageModel.for_inference(model)\n",
    "inputs = tokenizer(\n",
    "[\n",
    "    alpaca_prompt.format(\n",
    "        \"If you are a doctor, please answer the medical questions based on the patient's description.\",\n",
    "        \"Doctor I am very sick, I have a very high fever. What should I do?\",\n",
    "        \"\",\n",
    "    )\n",
    "], return_tensors = \"pt\").to(\"cuda\")\n",
    "\n",
    "outputs = model.generate(**inputs, max_new_tokens = 512, use_cache = True)\n",
    "tokenizer.batch_decode(outputs)"
   ]
  },
  {
   "cell_type": "code",
   "execution_count": 21,
   "id": "9f0196d8",
   "metadata": {},
   "outputs": [],
   "source": [
    "text_list = tokenizer.batch_decode(outputs)"
   ]
  },
  {
   "cell_type": "code",
   "execution_count": 22,
   "id": "dbf9acb8",
   "metadata": {},
   "outputs": [
    {
     "name": "stdout",
     "output_type": "stream",
     "text": [
      "<|begin_of_text|>Below is an instruction that describes a task, paired with an input that provides further context. Write a response that appropriately completes the request.\n",
      "\n",
      "### Instruction:\n",
      "If you are a doctor, please answer the medical questions based on the patient's description.\n",
      "\n",
      "### Patient:\n",
      "Doctor I am very sick, I have a very high fever. What should I do?\n",
      "\n",
      "### Doctor:\n",
      "Hello, Thank you for posting your query. I can understand your concern. You have fever with chills and rigor. Your symptoms are suggestive of bacterial infection. I would advise you to consult your doctor and get yourself evaluated. Get a blood test done to check for infection. You might need antibiotics and supportive treatment. Take care.<|end_of_text|>\n"
     ]
    }
   ],
   "source": [
    "print(text_list[0])"
   ]
  },
  {
   "cell_type": "code",
   "execution_count": 28,
   "id": "085eb956",
   "metadata": {},
   "outputs": [
    {
     "name": "stdout",
     "output_type": "stream",
     "text": [
      "<|begin_of_text|>Below is an instruction that describes a task, paired with an input that provides further context. Write a response that appropriately completes the request.\n",
      "\n",
      "### Instruction:\n",
      "If you are a doctor, please answer the medical questions based on the patient's description, and suggest a specialist doctor.\n",
      "\n",
      "### Patient:\n",
      "Doctor I am very sick, I have a very high fever. Can you recommend me any home remedies?\n",
      "\n",
      "### Doctor:\n",
      "Hello, I understand your concern and would like to help you. I suggest you to follow the steps below:1. Stay in a well-ventilated room.2. Take acetaminophen or ibuprofen for fever.3. Take paracetamol syrup for fever.4. Apply cool compress on forehead.5. Take plenty of fluids like water, juice and tea.6. Take rest and avoid exertion.7. Avoid exposure to cold.8. Consult your doctor. Hope this helps. Regards.<|end_of_text|>\n"
     ]
    }
   ],
   "source": [
    "FastLanguageModel.for_inference(model)\n",
    "inputs = tokenizer(\n",
    "[\n",
    "    alpaca_prompt.format(\n",
    "        \"If you are a doctor, please answer the medical questions based on the patient's description, and suggest a specialist doctor.\",\n",
    "        \"Doctor I am very sick, I have a very high fever. Can you recommend me any home remedies?\",\n",
    "        \"\",\n",
    "    )\n",
    "], return_tensors = \"pt\").to(\"cuda\")\n",
    "\n",
    "outputs = model.generate(**inputs, max_new_tokens = 200, use_cache = True)\n",
    "text_list = tokenizer.batch_decode(outputs)\n",
    "print(text_list[0])"
   ]
  },
  {
   "cell_type": "code",
   "execution_count": 29,
   "id": "4e2c1047",
   "metadata": {},
   "outputs": [
    {
     "data": {
      "text/plain": [
       "'Hello, I understand your concern and would like to help you. I suggest you to follow the steps below:1. Stay in a well-ventilated room.2. Take acetaminophen or ibuprofen for fever.3. Take paracetamol syrup for fever.4. Apply cool compress on forehead.5. Take plenty of fluids like water, juice and tea.6. Take rest and avoid exertion.7. Avoid exposure to cold.8. Consult your doctor. Hope this helps. Regards.'"
      ]
     },
     "execution_count": 29,
     "metadata": {},
     "output_type": "execute_result"
    }
   ],
   "source": [
    "output = text_list[0]\n",
    "output[output.find(\"### Doctor:\")+12:-15]"
   ]
  },
  {
   "cell_type": "markdown",
   "id": "203d7c64",
   "metadata": {},
   "source": [
    "# Sample Q/A"
   ]
  },
  {
   "cell_type": "code",
   "execution_count": 10,
   "id": "40f765b6",
   "metadata": {},
   "outputs": [
    {
     "name": "stdout",
     "output_type": "stream",
     "text": [
      "Hello, The symptoms you have mentioned are suggestive of pneumonia. I would advise you to get a chest X-ray done to confirm the diagnosis. If the chest X-ray is suggestive of pneumonia, then you should get a sputum culture done. This will give an idea about the organism causing the pneumonia. Antibiotics and bronchodilators can be given to treat the symptoms. Hope I have answered your query. Let me know if I can assist you further. \n"
     ]
    }
   ],
   "source": [
    "FastLanguageModel.for_inference(model)\n",
    "inputs = tokenizer(\n",
    "[\n",
    "    alpaca_prompt.format(\n",
    "        \"If you are a doctor, please answer the medical questions based on the patient's description.\",\n",
    "        \"I am experiencing persistent coughing, fever, and difficulty breathing. What could be the reason for this?\",\n",
    "        \"\",\n",
    "    )\n",
    "], return_tensors = \"pt\").to(\"cuda\")\n",
    "\n",
    "outputs = model.generate(**inputs, max_new_tokens = 512, use_cache = True)\n",
    "text_list = tokenizer.batch_decode(outputs)\n",
    "output = text_list[0]\n",
    "print(output[output.find(\"### Doctor:\")+12:-15])"
   ]
  },
  {
   "cell_type": "code",
   "execution_count": 11,
   "id": "48e284d5",
   "metadata": {},
   "outputs": [
    {
     "name": "stdout",
     "output_type": "stream",
     "text": [
      "Hi, Thanks for your query. I can understand your concern. I will suggest you to consult a neurologist and get evaluated. You should get a complete neurological examination done. You may need to undergo some investigations like MRI brain, EEG, and CSF analysis to rule out the cause of your symptoms. In case of migraine, you should take some anti-migraine Chat Doctor.  If you have any other query, please do not hesitate to contact us. I will be happy to help you. Wishing you good health.\n"
     ]
    }
   ],
   "source": [
    "FastLanguageModel.for_inference(model)\n",
    "inputs = tokenizer(\n",
    "[\n",
    "    alpaca_prompt.format(\n",
    "        \"If you are a doctor, please answer the medical questions based on the patient's description.\",\n",
    "        \"I am experiencing a headache and sensitivity to light. What should I do?\",\n",
    "        \"\",\n",
    "    )\n",
    "], return_tensors = \"pt\").to(\"cuda\")\n",
    "\n",
    "outputs = model.generate(**inputs, max_new_tokens = 512, use_cache = True)\n",
    "text_list = tokenizer.batch_decode(outputs)\n",
    "output = text_list[0]\n",
    "print(output[output.find(\"### Doctor:\")+12:-15])"
   ]
  },
  {
   "cell_type": "code",
   "execution_count": 12,
   "id": "e143c391",
   "metadata": {},
   "outputs": [
    {
     "name": "stdout",
     "output_type": "stream",
     "text": [
      "Hello, I understand your concern. The symptoms you have mentioned can be due to viral infection, or bacterial infection. It can be due to allergic reaction, but it is not common. The symptoms you have mentioned are not specific to any disease. I suggest you to get your child examined by a pediatrician. He/she can examine the child and can guide you. If the symptoms persist, or if the child has difficulty in breathing, you should get him/her admitted to the hospital. Hope I have answered your query. Let me know if I can assist you further. \n"
     ]
    }
   ],
   "source": [
    "FastLanguageModel.for_inference(model)\n",
    "inputs = tokenizer(\n",
    "[\n",
    "    alpaca_prompt.format(\n",
    "        \"If you are a doctor, please answer the medical questions based on the patient's description.\",\n",
    "        \"My child has a rash, fever, and joint pain. Could this be an allergic reaction or something else?\",\n",
    "        \"\",\n",
    "    )\n",
    "], return_tensors = \"pt\").to(\"cuda\")\n",
    "\n",
    "outputs = model.generate(**inputs, max_new_tokens = 512, use_cache = True)\n",
    "text_list = tokenizer.batch_decode(outputs)\n",
    "output = text_list[0]\n",
    "print(output[output.find(\"### Doctor:\")+12:-15])"
   ]
  },
  {
   "cell_type": "code",
   "execution_count": 13,
   "id": "cbcadb68",
   "metadata": {},
   "outputs": [
    {
     "name": "stdout",
     "output_type": "stream",
     "text": [
      "Hello, Thank you for asking. Your symptoms could be due to various reasons like acidity, gastritis, peptic ulcer, gall bladder stones, appendicitis, etc. I suggest you get an upper GI endoscopy done. This will help in diagnosing the cause of your symptoms. You can also try some antacid like pantoprazole 40 mg before meals, proton pump inhibitors like omeprazole 20 mg before meals, antispasmodics like hyoscyamine 0.1 mg before meals. If your symptoms do not improve after 2-3 days, consult a doctor and get investigated. Hope I have answered your query. Let me know if I can assist you further. \n"
     ]
    }
   ],
   "source": [
    "FastLanguageModel.for_inference(model)\n",
    "inputs = tokenizer(\n",
    "[\n",
    "    alpaca_prompt.format(\n",
    "        \"If you are a doctor, please answer the medical questions based on the patient's description.\",\n",
    "        \"I have been experiencing stomach pain and nausea for a week. What could be the possible causes?\",\n",
    "        \"\",\n",
    "    )\n",
    "], return_tensors = \"pt\").to(\"cuda\")\n",
    "\n",
    "outputs = model.generate(**inputs, max_new_tokens = 512, use_cache = True)\n",
    "text_list = tokenizer.batch_decode(outputs)\n",
    "output = text_list[0]\n",
    "print(output[output.find(\"### Doctor:\")+12:-15])"
   ]
  },
  {
   "cell_type": "code",
   "execution_count": 14,
   "id": "a7f715f0",
   "metadata": {},
   "outputs": [
    {
     "name": "stdout",
     "output_type": "stream",
     "text": [
      "Hello, The symptoms you describe are suggestive of orthostatic hypotension, which is low blood pressure when you stand up. This can be caused by several things, including: - low blood pressure - anemia - dehydration - heart problems - Chat Doctor.  In order to diagnose this, your doctor will need to do a physical exam, as well as blood tests and an EKG. Hope I have answered your query. Let me know if I can answer any other question for you. \n"
     ]
    }
   ],
   "source": [
    "FastLanguageModel.for_inference(model)\n",
    "inputs = tokenizer(\n",
    "[\n",
    "    alpaca_prompt.format(\n",
    "        \"If you are a doctor, please answer the medical questions based on the patient's description.\",\n",
    "        \"I feel dizzy and slightly faint after standing up. What could be the cause of this?\",\n",
    "        \"\",\n",
    "    )\n",
    "], return_tensors = \"pt\").to(\"cuda\")\n",
    "\n",
    "outputs = model.generate(**inputs, max_new_tokens = 512, use_cache = True)\n",
    "text_list = tokenizer.batch_decode(outputs)\n",
    "output = text_list[0]\n",
    "print(output[output.find(\"### Doctor:\")+12:-15])"
   ]
  },
  {
   "cell_type": "code",
   "execution_count": 15,
   "id": "0777c45c",
   "metadata": {},
   "outputs": [
    {
     "name": "stdout",
     "output_type": "stream",
     "text": [
      "Hello, Thanks for writing in. The over-the-counter medicines that you can take for mild headaches are: Aspirin, acetaminophen, ibuprofen, naproxen, etc. Acetaminophen is considered the safest of these. If the headache persists or worsens, or if you have any other symptoms with the headache, consult your doctor.\n"
     ]
    }
   ],
   "source": [
    "FastLanguageModel.for_inference(model)\n",
    "inputs = tokenizer(\n",
    "[\n",
    "    alpaca_prompt.format(\n",
    "        \"If you are a doctor, please answer the medical questions based on the patient's description.\",\n",
    "        \"Which over-the-counter medicine can I take for mild headaches?\",\n",
    "        \"\",\n",
    "    )\n",
    "], return_tensors = \"pt\").to(\"cuda\")\n",
    "\n",
    "outputs = model.generate(**inputs, max_new_tokens = 512, use_cache = True)\n",
    "text_list = tokenizer.batch_decode(outputs)\n",
    "output = text_list[0]\n",
    "print(output[output.find(\"### Doctor:\")+12:-15])"
   ]
  },
  {
   "cell_type": "code",
   "execution_count": 16,
   "id": "a40ffa55",
   "metadata": {},
   "outputs": [
    {
     "name": "stdout",
     "output_type": "stream",
     "text": [
      "Hello, I have gone through your query and understand your concerns. The burn is a type of injury that can occur due to the contact with a hot object or radiation. The burn can be classified into different degrees according to the severity of injury. The burn can be superficial and superficial partial thickness burns. For superficial burns, the treatment is simple. You can apply the antiseptic ointment or calamine lotion. If the burn is superficial partial thickness burns, the treatment is a bit complicated. I suggest you to consult a doctor for further evaluation. Hope this helps.\n"
     ]
    }
   ],
   "source": [
    "FastLanguageModel.for_inference(model)\n",
    "inputs = tokenizer(\n",
    "[\n",
    "    alpaca_prompt.format(\n",
    "        \"If you are a doctor, please answer the medical questions based on the patient's description.\",\n",
    "        \"How can I treat a minor burn at home?\",\n",
    "        \"\",\n",
    "    )\n",
    "], return_tensors = \"pt\").to(\"cuda\")\n",
    "\n",
    "outputs = model.generate(**inputs, max_new_tokens = 512, use_cache = True)\n",
    "text_list = tokenizer.batch_decode(outputs)\n",
    "output = text_list[0]\n",
    "print(output[output.find(\"### Doctor:\")+12:-15])"
   ]
  },
  {
   "cell_type": "code",
   "execution_count": 17,
   "id": "a94eac31",
   "metadata": {},
   "outputs": [
    {
     "name": "stdout",
     "output_type": "stream",
     "text": [
      "Hi, Thank you for your query. I have gone through your query. I can understand your concern. Ibuprofen is a common medication used in the treatment of pain, fever, and inflammation. It is usually safe when taken in the recommended doses. It can cause side effects if taken in higher doses. If you are taking ibuprofen daily, then you may develop side effects. You can develop nausea, vomiting, diarrhea, constipation, stomach pain, headache, dizziness, rash, itching, etc. If you are developing any side effects, then you should consult your doctor and get evaluated. You may require change in the dose or change in the medication. Hope I have answered your query. Let me know if I can assist you further.\n"
     ]
    }
   ],
   "source": [
    "FastLanguageModel.for_inference(model)\n",
    "inputs = tokenizer(\n",
    "[\n",
    "    alpaca_prompt.format(\n",
    "        \"If you are a doctor, please answer the medical questions based on the patient's description.\",\n",
    "        \"Can taking ibuprofen daily cause any side effects?\",\n",
    "        \"\",\n",
    "    )\n",
    "], return_tensors = \"pt\").to(\"cuda\")\n",
    "\n",
    "outputs = model.generate(**inputs, max_new_tokens = 512, use_cache = True)\n",
    "text_list = tokenizer.batch_decode(outputs)\n",
    "output = text_list[0]\n",
    "print(output[output.find(\"### Doctor:\")+12:-15])"
   ]
  },
  {
   "cell_type": "code",
   "execution_count": 18,
   "id": "1d635640",
   "metadata": {},
   "outputs": [
    {
     "name": "stdout",
     "output_type": "stream",
     "text": [
      "Hello! Welcome to Chat Doctor! I understand your concern. You didn't mention your age and your symptoms. However, I will answer based on your description. If you have seasonal allergies, you should take an antihistamine. It is the first line of treatment. You can take a combination of antihistamine and steroid nasal spray. If you are not responding to treatment, you should consult an allergist. He will perform skin tests and prescribe you an antiallergic medication. Hope to have been helpful! Kind regards, \n"
     ]
    }
   ],
   "source": [
    "FastLanguageModel.for_inference(model)\n",
    "inputs = tokenizer(\n",
    "[\n",
    "    alpaca_prompt.format(\n",
    "        \"If you are a doctor, please answer the medical questions based on the patient's description.\",\n",
    "        \"What is the first line of treatment for seasonal allergies?\",\n",
    "        \"\",\n",
    "    )\n",
    "], return_tensors = \"pt\").to(\"cuda\")\n",
    "\n",
    "outputs = model.generate(**inputs, max_new_tokens = 512, use_cache = True)\n",
    "text_list = tokenizer.batch_decode(outputs)\n",
    "output = text_list[0]\n",
    "print(output[output.find(\"### Doctor:\")+12:-15])"
   ]
  },
  {
   "cell_type": "code",
   "execution_count": 19,
   "id": "ec1aa624",
   "metadata": {},
   "outputs": [
    {
     "name": "stdout",
     "output_type": "stream",
     "text": [
      "Hello, I understand your concern. The painkillers are usually prescribed to relieve pain and are not related to the antibiotics. In addition, painkillers can have side effects. You should take them according to the instructions of the doctor. If you have any questions, please do not hesitate to ask. Best wishes.\n"
     ]
    }
   ],
   "source": [
    "FastLanguageModel.for_inference(model)\n",
    "inputs = tokenizer(\n",
    "[\n",
    "    alpaca_prompt.format(\n",
    "        \"If you are a doctor, please answer the medical questions based on the patient's description.\",\n",
    "        \"Can I take a specific antibiotic along with painkillers?\",\n",
    "        \"\",\n",
    "    )\n",
    "], return_tensors = \"pt\").to(\"cuda\")\n",
    "\n",
    "outputs = model.generate(**inputs, max_new_tokens = 512, use_cache = True)\n",
    "text_list = tokenizer.batch_decode(outputs)\n",
    "output = text_list[0]\n",
    "print(output[output.find(\"### Doctor:\")+12:-15])"
   ]
  },
  {
   "cell_type": "code",
   "execution_count": null,
   "id": "d1e7b74e",
   "metadata": {},
   "outputs": [],
   "source": []
  }
 ],
 "metadata": {
  "kernelspec": {
   "display_name": "llama3_2",
   "language": "python",
   "name": "llama3_2"
  },
  "language_info": {
   "codemirror_mode": {
    "name": "ipython",
    "version": 3
   },
   "file_extension": ".py",
   "mimetype": "text/x-python",
   "name": "python",
   "nbconvert_exporter": "python",
   "pygments_lexer": "ipython3",
   "version": "3.10.16"
  }
 },
 "nbformat": 4,
 "nbformat_minor": 5
}
