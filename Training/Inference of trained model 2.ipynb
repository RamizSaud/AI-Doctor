{
 "cells": [
  {
   "cell_type": "code",
   "execution_count": 1,
   "id": "fe765564",
   "metadata": {},
   "outputs": [
    {
     "name": "stdout",
     "output_type": "stream",
     "text": [
      "🦥 Unsloth: Will patch your computer to enable 2x faster free finetuning.\n"
     ]
    },
    {
     "name": "stderr",
     "output_type": "stream",
     "text": [
      "C:\\Anaconda\\envs\\llama3_2\\lib\\site-packages\\tqdm\\auto.py:21: TqdmWarning: IProgress not found. Please update jupyter and ipywidgets. See https://ipywidgets.readthedocs.io/en/stable/user_install.html\n",
      "  from .autonotebook import tqdm as notebook_tqdm\n"
     ]
    },
    {
     "name": "stdout",
     "output_type": "stream",
     "text": [
      "🦥 Unsloth Zoo will now patch everything to make training faster!\n"
     ]
    }
   ],
   "source": [
    "import torch\n",
    "from unsloth import FastLanguageModel"
   ]
  },
  {
   "cell_type": "code",
   "execution_count": 2,
   "id": "82cc10be",
   "metadata": {},
   "outputs": [
    {
     "name": "stdout",
     "output_type": "stream",
     "text": [
      "==((====))==  Unsloth 2025.1.5: Fast Llama patching. Transformers: 4.48.0.\n",
      "   \\\\   /|    GPU: NVIDIA GeForce RTX 3070 Laptop GPU. Max memory: 8.0 GB. Platform: Windows.\n",
      "O^O/ \\_/ \\    Torch: 2.5.1+cu124. CUDA: 8.6. CUDA Toolkit: 12.4. Triton: 3.1.0\n",
      "\\        /    Bfloat16 = TRUE. FA [Xformers = 0.0.29.post1. FA2 = True]\n",
      " \"-____-\"     Free Apache license: http://github.com/unslothai/unsloth\n",
      "Unsloth: Fast downloading is enabled - ignore downloading bars which are red colored!\n"
     ]
    },
    {
     "name": "stderr",
     "output_type": "stream",
     "text": [
      "C:\\Anaconda\\envs\\llama3_2\\lib\\site-packages\\unsloth\\models\\llama.py:1185: UserWarning: expandable_segments not supported on this platform (Triggered internally at C:\\actions-runner\\_work\\pytorch\\pytorch\\builder\\windows\\pytorch\\c10/cuda/CUDAAllocatorConfig.h:28.)\n",
      "  self.register_buffer(\"cos_cached\", emb.cos().to(dtype=dtype, device=device, non_blocking=True), persistent=False)\n",
      "Unsloth 2025.1.5 patched 32 layers with 32 QKV layers, 32 O layers and 32 MLP layers.\n"
     ]
    }
   ],
   "source": [
    "max_seq_length = 4096\n",
    "dtype = None\n",
    "load_in_4bit = True\n",
    "\n",
    "if True:\n",
    "    from unsloth import FastLanguageModel\n",
    "    model, tokenizer = FastLanguageModel.from_pretrained(\n",
    "        model_name = \"lora_model_2\", # YOUR MODEL YOU USED FOR TRAINING\n",
    "        max_seq_length = max_seq_length,\n",
    "        dtype = dtype,\n",
    "        load_in_4bit = load_in_4bit,\n",
    "    )\n",
    "    FastLanguageModel.for_inference(model)"
   ]
  },
  {
   "cell_type": "code",
   "execution_count": 3,
   "id": "8ca2135d",
   "metadata": {},
   "outputs": [],
   "source": [
    "alpaca_prompt = \"\"\"Below is an instruction that describes a task, paired with an input that provides further context. Write a response that appropriately completes the request.\n",
    "\n",
    "### Instruction:\n",
    "{}\n",
    "\n",
    "### Patient:\n",
    "{}\n",
    "\n",
    "### Doctor:\n",
    "{}\"\"\""
   ]
  },
  {
   "cell_type": "code",
   "execution_count": 4,
   "id": "fad3c741",
   "metadata": {},
   "outputs": [
    {
     "data": {
      "text/plain": [
       "[\"<|begin_of_text|>Below is an instruction that describes a task, paired with an input that provides further context. Write a response that appropriately completes the request.\\n\\n### Instruction:\\nIf you are a doctor, please answer the medical questions based on the patient's description.\\n\\n### Patient:\\nDoctor I am very sick, I have a very high fever. What should I do?\\n\\n### Doctor:\\nHello, I understand your concern. I would like to tell you that the fever may be due to any viral infection or bacterial infection. It may also be due to any kind of inflammation in the body. You should consult your doctor and get yourself examined. Your doctor may advise you some investigations like blood tests, urine test, X-ray etc. depending on your symptoms. In the meanwhile, you can take some medicines like paracetamol or ibuprofen to reduce the fever. You can also take some antacids like pantoprazole to prevent acidity. Take care.<|end_of_text|>\"]"
      ]
     },
     "execution_count": 4,
     "metadata": {},
     "output_type": "execute_result"
    }
   ],
   "source": [
    "FastLanguageModel.for_inference(model)\n",
    "inputs = tokenizer(\n",
    "[\n",
    "    alpaca_prompt.format(\n",
    "        \"If you are a doctor, please answer the medical questions based on the patient's description.\",\n",
    "        \"Doctor I am very sick, I have a very high fever. What should I do?\",\n",
    "        \"\",\n",
    "    )\n",
    "], return_tensors = \"pt\").to(\"cuda\")\n",
    "\n",
    "outputs = model.generate(**inputs, max_new_tokens = 128, use_cache = True)\n",
    "tokenizer.batch_decode(outputs)"
   ]
  },
  {
   "cell_type": "code",
   "execution_count": 5,
   "id": "9f0196d8",
   "metadata": {},
   "outputs": [],
   "source": [
    "text_list = tokenizer.batch_decode(outputs)"
   ]
  },
  {
   "cell_type": "code",
   "execution_count": 6,
   "id": "dbf9acb8",
   "metadata": {},
   "outputs": [
    {
     "name": "stdout",
     "output_type": "stream",
     "text": [
      "<|begin_of_text|>Below is an instruction that describes a task, paired with an input that provides further context. Write a response that appropriately completes the request.\n",
      "\n",
      "### Instruction:\n",
      "If you are a doctor, please answer the medical questions based on the patient's description.\n",
      "\n",
      "### Patient:\n",
      "Doctor I am very sick, I have a very high fever. What should I do?\n",
      "\n",
      "### Doctor:\n",
      "Hello, I understand your concern. I would like to tell you that the fever may be due to any viral infection or bacterial infection. It may also be due to any kind of inflammation in the body. You should consult your doctor and get yourself examined. Your doctor may advise you some investigations like blood tests, urine test, X-ray etc. depending on your symptoms. In the meanwhile, you can take some medicines like paracetamol or ibuprofen to reduce the fever. You can also take some antacids like pantoprazole to prevent acidity. Take care.<|end_of_text|>\n"
     ]
    }
   ],
   "source": [
    "print(text_list[0])"
   ]
  },
  {
   "cell_type": "code",
   "execution_count": 7,
   "id": "085eb956",
   "metadata": {},
   "outputs": [
    {
     "name": "stdout",
     "output_type": "stream",
     "text": [
      "<|begin_of_text|>Below is an instruction that describes a task, paired with an input that provides further context. Write a response that appropriately completes the request.\n",
      "\n",
      "### Instruction:\n",
      "If you are a doctor, please answer the medical questions based on the patient's description.\n",
      "\n",
      "### Patient:\n",
      "Doctor I am very sick, I have a very high fever. Can you recommend me any home remedies?\n",
      "\n",
      "### Doctor:\n",
      "Hello! Thank you for writing to us! I understand your concern and would like to help you. Your fever is caused by an infection. You should take an antibiotic and an antipyretic. I would recommend you to take Cefuroxime or Ceftriaxone. For the fever you can take Ibuprofen. I hope I have answered your query. Let me know if I can assist you further! Kind regards!<|end_of_text|>\n"
     ]
    }
   ],
   "source": [
    "FastLanguageModel.for_inference(model)\n",
    "inputs = tokenizer(\n",
    "[\n",
    "    alpaca_prompt.format(\n",
    "        \"If you are a doctor, please answer the medical questions based on the patient's description.\",\n",
    "        \"Doctor I am very sick, I have a very high fever. Can you recommend me any home remedies?\",\n",
    "        \"\",\n",
    "    )\n",
    "], return_tensors = \"pt\").to(\"cuda\")\n",
    "\n",
    "outputs = model.generate(**inputs, max_new_tokens = 128, use_cache = True)\n",
    "text_list = tokenizer.batch_decode(outputs)\n",
    "print(text_list[0])"
   ]
  },
  {
   "cell_type": "code",
   "execution_count": 8,
   "id": "ecd85dfe",
   "metadata": {},
   "outputs": [
    {
     "data": {
      "text/plain": [
       "390"
      ]
     },
     "execution_count": 8,
     "metadata": {},
     "output_type": "execute_result"
    }
   ],
   "source": [
    "text_list[0].find('### Doctor:')"
   ]
  },
  {
   "cell_type": "code",
   "execution_count": 9,
   "id": "4e2c1047",
   "metadata": {},
   "outputs": [
    {
     "data": {
      "text/plain": [
       "'Hello! Thank you for writing to us! I understand your concern and would like to help you. Your fever is caused by an infection. You should take an antibiotic and an antipyretic. I would recommend you to take Cefuroxime or Ceftriaxone. For the fever you can take Ibuprofen. I hope I have answered your query. Let me know if I can assist you further! Kind regards!'"
      ]
     },
     "execution_count": 9,
     "metadata": {},
     "output_type": "execute_result"
    }
   ],
   "source": [
    "output = text_list[0]\n",
    "output[output.find(\"### Doctor:\")+12:-15]"
   ]
  },
  {
   "cell_type": "markdown",
   "id": "203d7c64",
   "metadata": {},
   "source": [
    "# Sample Q/A"
   ]
  },
  {
   "cell_type": "code",
   "execution_count": 10,
   "id": "40f765b6",
   "metadata": {},
   "outputs": [
    {
     "name": "stdout",
     "output_type": "stream",
     "text": [
      "Hello, Thanks for the query. I would like to inform you that these symptoms are suggestive of pneumonia. This is an infection of the lungs and can be caused by bacteria or viruses. The most common bacteria that cause pneumonia are Streptococcus pneumoniae, Haemophilus influenzae, and Mycoplasma pneumoniae. The most common viruses that cause pneumonia are influenza virus, parainfluenza virus, and respiratory syncytial virus. I would suggest you to consult pulmonologist and get evaluated. The treatment depends on the cause of the infection. Your doctor may prescribe antibiotics or antiviral med\n"
     ]
    }
   ],
   "source": [
    "FastLanguageModel.for_inference(model)\n",
    "inputs = tokenizer(\n",
    "[\n",
    "    alpaca_prompt.format(\n",
    "        \"If you are a doctor, please answer the medical questions based on the patient's description.\",\n",
    "        \"I am experiencing persistent coughing, fever, and difficulty breathing. What could be the reason for this?\",\n",
    "        \"\",\n",
    "    )\n",
    "], return_tensors = \"pt\").to(\"cuda\")\n",
    "\n",
    "outputs = model.generate(**inputs, max_new_tokens = 128, use_cache = True)\n",
    "text_list = tokenizer.batch_decode(outputs)\n",
    "output = text_list[0]\n",
    "print(output[output.find(\"### Doctor:\")+12:-15])"
   ]
  },
  {
   "cell_type": "code",
   "execution_count": 11,
   "id": "48e284d5",
   "metadata": {},
   "outputs": [
    {
     "name": "stdout",
     "output_type": "stream",
     "text": [
      "Hi, Thanks for writing in. Headache and sensitivity to light is usually seen in cases of migraine. It can be due to inflammation of the brain or due to a head injury. It is also seen in cases of glaucoma. So it is important to rule out these conditions. You can take paracetamol or ibuprofen for headache. Take a rest and avoid bright light. If the symptoms persist, consult your doctor. Hope this helps.\n"
     ]
    }
   ],
   "source": [
    "FastLanguageModel.for_inference(model)\n",
    "inputs = tokenizer(\n",
    "[\n",
    "    alpaca_prompt.format(\n",
    "        \"If you are a doctor, please answer the medical questions based on the patient's description.\",\n",
    "        \"I am experiencing a headache and sensitivity to light. What should I do?\",\n",
    "        \"\",\n",
    "    )\n",
    "], return_tensors = \"pt\").to(\"cuda\")\n",
    "\n",
    "outputs = model.generate(**inputs, max_new_tokens = 128, use_cache = True)\n",
    "text_list = tokenizer.batch_decode(outputs)\n",
    "output = text_list[0]\n",
    "print(output[output.find(\"### Doctor:\")+12:-15])"
   ]
  },
  {
   "cell_type": "code",
   "execution_count": 12,
   "id": "e143c391",
   "metadata": {},
   "outputs": [
    {
     "name": "stdout",
     "output_type": "stream",
     "text": [
      "Hello! Thank you for consulting in Chat Doctor. I carefully passed through your query and understand your concern. Your child has rash, fever and joint pain. This is suggestive of viral infection. It can be due to viral infection like measles, rubella, chickenpox, etc. It can be due to bacterial infection like typhoid, meningitis, etc. It can be due to parasitic infection like malaria, amoebiasis, etc. I would suggest you to consult a physician and get examined. He/she will diagnose your child and prescribe treatment accordingly. Hope my answer will help you. I will be \n"
     ]
    }
   ],
   "source": [
    "FastLanguageModel.for_inference(model)\n",
    "inputs = tokenizer(\n",
    "[\n",
    "    alpaca_prompt.format(\n",
    "        \"If you are a doctor, please answer the medical questions based on the patient's description.\",\n",
    "        \"My child has a rash, fever, and joint pain. Could this be an allergic reaction or something else?\",\n",
    "        \"\",\n",
    "    )\n",
    "], return_tensors = \"pt\").to(\"cuda\")\n",
    "\n",
    "outputs = model.generate(**inputs, max_new_tokens = 128, use_cache = True)\n",
    "text_list = tokenizer.batch_decode(outputs)\n",
    "output = text_list[0]\n",
    "print(output[output.find(\"### Doctor:\")+12:-15])"
   ]
  },
  {
   "cell_type": "code",
   "execution_count": 13,
   "id": "cbcadb68",
   "metadata": {},
   "outputs": [
    {
     "name": "stdout",
     "output_type": "stream",
     "text": [
      "Hello, Welcome to Chat Doctor, Your symptoms could be due to gastritis, peptic ulcer, food poisoning, or even gall bladder stones. You should consult a gastroenterologist and get your blood tests done to rule out anemia, and an ultrasound of the abdomen to rule out gall bladder stones. You should also get your stool culture done to rule out food poisoning. You should also get an upper GI endoscopy done to rule out gastritis and peptic ulcer. You should avoid spicy and oily foods, and take proton pump inhibitors like pantoprazole and rabeprazole. Take proton pump inhibit\n"
     ]
    }
   ],
   "source": [
    "FastLanguageModel.for_inference(model)\n",
    "inputs = tokenizer(\n",
    "[\n",
    "    alpaca_prompt.format(\n",
    "        \"If you are a doctor, please answer the medical questions based on the patient's description.\",\n",
    "        \"I have been experiencing stomach pain and nausea for a week. What could be the possible causes?\",\n",
    "        \"\",\n",
    "    )\n",
    "], return_tensors = \"pt\").to(\"cuda\")\n",
    "\n",
    "outputs = model.generate(**inputs, max_new_tokens = 128, use_cache = True)\n",
    "text_list = tokenizer.batch_decode(outputs)\n",
    "output = text_list[0]\n",
    "print(output[output.find(\"### Doctor:\")+12:-15])"
   ]
  },
  {
   "cell_type": "code",
   "execution_count": 14,
   "id": "a7f715f0",
   "metadata": {},
   "outputs": [
    {
     "name": "stdout",
     "output_type": "stream",
     "text": [
      "Hi, Your symptoms are consistent with orthostatic hypotension. It is a condition in which the blood pressure falls rapidly after standing. It is common in elderly people, especially those with heart disease or diabetes. You should consult a doctor to check your blood pressure and to rule out any other causes of dizziness. If your blood pressure is normal, your doctor may recommend lifestyle changes such as avoiding sudden changes in position, eating small frequent meals, and avoiding alcohol and caffeine. He may also prescribe medication to improve your blood pressure. Hope I have answered your query. Let me know if I can assist you further. \n"
     ]
    }
   ],
   "source": [
    "FastLanguageModel.for_inference(model)\n",
    "inputs = tokenizer(\n",
    "[\n",
    "    alpaca_prompt.format(\n",
    "        \"If you are a doctor, please answer the medical questions based on the patient's description.\",\n",
    "        \"I feel dizzy and slightly faint after standing up. What could be the cause of this?\",\n",
    "        \"\",\n",
    "    )\n",
    "], return_tensors = \"pt\").to(\"cuda\")\n",
    "\n",
    "outputs = model.generate(**inputs, max_new_tokens = 128, use_cache = True)\n",
    "text_list = tokenizer.batch_decode(outputs)\n",
    "output = text_list[0]\n",
    "print(output[output.find(\"### Doctor:\")+12:-15])"
   ]
  },
  {
   "cell_type": "code",
   "execution_count": 15,
   "id": "0777c45c",
   "metadata": {},
   "outputs": [
    {
     "name": "stdout",
     "output_type": "stream",
     "text": [
      "Hi, Thanks for writing in. I understand your concern. I would suggest you to take paracetamol. It is an effective analgesic. It is available over the counter. You can take it every 4-6 hourly. You can also take caffeine. It is a mild stimulant. It is available in the form of coffee and tea. It will give you relief from headache. You can also take a good amount of water. It will also relieve headache. I hope this information helps.\n"
     ]
    }
   ],
   "source": [
    "FastLanguageModel.for_inference(model)\n",
    "inputs = tokenizer(\n",
    "[\n",
    "    alpaca_prompt.format(\n",
    "        \"If you are a doctor, please answer the medical questions based on the patient's description.\",\n",
    "        \"Which over-the-counter medicine can I take for mild headaches?\",\n",
    "        \"\",\n",
    "    )\n",
    "], return_tensors = \"pt\").to(\"cuda\")\n",
    "\n",
    "outputs = model.generate(**inputs, max_new_tokens = 128, use_cache = True)\n",
    "text_list = tokenizer.batch_decode(outputs)\n",
    "output = text_list[0]\n",
    "print(output[output.find(\"### Doctor:\")+12:-15])"
   ]
  },
  {
   "cell_type": "code",
   "execution_count": 16,
   "id": "a40ffa55",
   "metadata": {},
   "outputs": [
    {
     "name": "stdout",
     "output_type": "stream",
     "text": [
      "Hello, Thank you for posting on Chat Doctor. I can understand your concern. As per your query you have minor burn at home. I will suggest you to apply some ointment over the burn area. The ointment should be non-allergic and non-irritant. The ointment should be applied over the burn area. You can apply the ointment twice in a day. The burn area should be covered with ointment. You should not apply any other ointment over the burn area. If the burn area is very large then you should consult a doctor. The doctor will prescribe \n"
     ]
    }
   ],
   "source": [
    "FastLanguageModel.for_inference(model)\n",
    "inputs = tokenizer(\n",
    "[\n",
    "    alpaca_prompt.format(\n",
    "        \"If you are a doctor, please answer the medical questions based on the patient's description.\",\n",
    "        \"How can I treat a minor burn at home?\",\n",
    "        \"\",\n",
    "    )\n",
    "], return_tensors = \"pt\").to(\"cuda\")\n",
    "\n",
    "outputs = model.generate(**inputs, max_new_tokens = 128, use_cache = True)\n",
    "text_list = tokenizer.batch_decode(outputs)\n",
    "output = text_list[0]\n",
    "print(output[output.find(\"### Doctor:\")+12:-15])"
   ]
  },
  {
   "cell_type": "code",
   "execution_count": 17,
   "id": "a94eac31",
   "metadata": {},
   "outputs": [
    {
     "name": "stdout",
     "output_type": "stream",
     "text": [
      "Hello, I am Chat Doctor, I would like to answer your query, ibuprofen is a non-steroidal anti-inflammatory drug (NSAID), it is used for the treatment of pain, fever, and inflammation. It is available in the form of capsules, tablets, and gel. It is available over the counter. It is a safe medicine, but it has some side effects. It can cause nausea, vomiting, diarrhea, heartburn, constipation, abdominal pain, dizziness, headache, confusion, insomnia, and rash. It can cause kidney damage. It can cause bleeding in the stomach. It \n"
     ]
    }
   ],
   "source": [
    "FastLanguageModel.for_inference(model)\n",
    "inputs = tokenizer(\n",
    "[\n",
    "    alpaca_prompt.format(\n",
    "        \"If you are a doctor, please answer the medical questions based on the patient's description.\",\n",
    "        \"Can taking ibuprofen daily cause any side effects?\",\n",
    "        \"\",\n",
    "    )\n",
    "], return_tensors = \"pt\").to(\"cuda\")\n",
    "\n",
    "outputs = model.generate(**inputs, max_new_tokens = 128, use_cache = True)\n",
    "text_list = tokenizer.batch_decode(outputs)\n",
    "output = text_list[0]\n",
    "print(output[output.find(\"### Doctor:\")+12:-15])"
   ]
  },
  {
   "cell_type": "code",
   "execution_count": 18,
   "id": "1d635640",
   "metadata": {},
   "outputs": [
    {
     "name": "stdout",
     "output_type": "stream",
     "text": [
      "Hello, Welcome to Chat Doctor. Seasonal allergies can be treated with antihistamines. These are available over the counter. You can take a combination of antihistamines and decongestants. This will help to relieve your symptoms. If you are not able to get relief, you can consult a physician and get a prescription for an antihistamine. Hope this information helps.\n"
     ]
    }
   ],
   "source": [
    "FastLanguageModel.for_inference(model)\n",
    "inputs = tokenizer(\n",
    "[\n",
    "    alpaca_prompt.format(\n",
    "        \"If you are a doctor, please answer the medical questions based on the patient's description.\",\n",
    "        \"What is the first line of treatment for seasonal allergies?\",\n",
    "        \"\",\n",
    "    )\n",
    "], return_tensors = \"pt\").to(\"cuda\")\n",
    "\n",
    "outputs = model.generate(**inputs, max_new_tokens = 128, use_cache = True)\n",
    "text_list = tokenizer.batch_decode(outputs)\n",
    "output = text_list[0]\n",
    "print(output[output.find(\"### Doctor:\")+12:-15])"
   ]
  },
  {
   "cell_type": "code",
   "execution_count": 19,
   "id": "ec1aa624",
   "metadata": {},
   "outputs": [
    {
     "name": "stdout",
     "output_type": "stream",
     "text": [
      "Hello, Welcome to Chat Doctor. I have gone through your query. You can take painkillers with antibiotics. But some antibiotics can interact with painkillers and can increase the risk of bleeding. So better to avoid painkillers when you are on antibiotics. If you are on painkillers, then you can take antibiotics. But avoid painkillers. Hope I have answered your query. Let me know if I can assist you further.\n"
     ]
    }
   ],
   "source": [
    "FastLanguageModel.for_inference(model)\n",
    "inputs = tokenizer(\n",
    "[\n",
    "    alpaca_prompt.format(\n",
    "        \"If you are a doctor, please answer the medical questions based on the patient's description.\",\n",
    "        \"Can I take a specific antibiotic along with painkillers?\",\n",
    "        \"\",\n",
    "    )\n",
    "], return_tensors = \"pt\").to(\"cuda\")\n",
    "\n",
    "outputs = model.generate(**inputs, max_new_tokens = 128, use_cache = True)\n",
    "text_list = tokenizer.batch_decode(outputs)\n",
    "output = text_list[0]\n",
    "print(output[output.find(\"### Doctor:\")+12:-15])"
   ]
  },
  {
   "cell_type": "code",
   "execution_count": null,
   "id": "d1e7b74e",
   "metadata": {},
   "outputs": [],
   "source": []
  }
 ],
 "metadata": {
  "kernelspec": {
   "display_name": "llama3_2",
   "language": "python",
   "name": "llama3_2"
  },
  "language_info": {
   "codemirror_mode": {
    "name": "ipython",
    "version": 3
   },
   "file_extension": ".py",
   "mimetype": "text/x-python",
   "name": "python",
   "nbconvert_exporter": "python",
   "pygments_lexer": "ipython3",
   "version": "3.10.16"
  }
 },
 "nbformat": 4,
 "nbformat_minor": 5
}
